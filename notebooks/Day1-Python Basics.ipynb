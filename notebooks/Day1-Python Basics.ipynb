{
 "cells": [
  {
   "cell_type": "markdown",
   "metadata": {},
   "source": [
    "# Variable Declaration"
   ]
  },
  {
   "cell_type": "code",
   "execution_count": 2,
   "metadata": {},
   "outputs": [],
   "source": [
    "salary = 24000.98   # type inferencing"
   ]
  },
  {
   "cell_type": "code",
   "execution_count": 3,
   "metadata": {},
   "outputs": [
    {
     "name": "stdout",
     "output_type": "stream",
     "text": [
      "Datatype  <class 'float'>\n",
      "Value 24000.98\n"
     ]
    }
   ],
   "source": [
    "print(\"Datatype \", type(salary))\n",
    "print(\"Value\", salary)"
   ]
  },
  {
   "cell_type": "code",
   "execution_count": 4,
   "metadata": {},
   "outputs": [],
   "source": [
    "bonus = 5000\n",
    "indicator = True\n",
    "name = \"Steven\""
   ]
  },
  {
   "cell_type": "code",
   "execution_count": 5,
   "metadata": {},
   "outputs": [
    {
     "name": "stdout",
     "output_type": "stream",
     "text": [
      "Steven True 5000\n",
      "<class 'str'> <class 'bool'> <class 'int'>\n"
     ]
    }
   ],
   "source": [
    "print(name,indicator,bonus)\n",
    "print(type(name), type(indicator), type(bonus))"
   ]
  },
  {
   "cell_type": "markdown",
   "metadata": {},
   "source": [
    "# Arithmatic operations"
   ]
  },
  {
   "cell_type": "code",
   "execution_count": 7,
   "metadata": {},
   "outputs": [
    {
     "name": "stdout",
     "output_type": "stream",
     "text": [
      "Calculation  1400\n",
      "Comparision  True\n"
     ]
    }
   ],
   "source": [
    "num1 = 10\n",
    "num2 = 20\n",
    "\n",
    "result = (num1*10+num2*40)+500\n",
    "print(\"Calculation \", result)\n",
    "\n",
    "result = (num1 < num2) and (num1 != num2)\n",
    "print(\"Comparision \", result)"
   ]
  },
  {
   "cell_type": "markdown",
   "metadata": {},
   "source": [
    "# while loop"
   ]
  },
  {
   "cell_type": "code",
   "execution_count": 12,
   "metadata": {
    "collapsed": true
   },
   "outputs": [
    {
     "name": "stdout",
     "output_type": "stream",
     "text": [
      "0\n",
      "1\n",
      "2\n",
      "3\n",
      "4\n",
      "5\n",
      "6\n",
      "7\n",
      "8\n",
      "9\n",
      "10\n",
      "----------End Of Loop----------\n"
     ]
    }
   ],
   "source": [
    "counter = 0\n",
    "\n",
    "while(counter <= 10):\n",
    "    print(counter)\n",
    "    counter +=1\n",
    "print(\"----------End Of Loop----------\")    "
   ]
  },
  {
   "cell_type": "code",
   "execution_count": 13,
   "metadata": {
    "collapsed": true
   },
   "outputs": [
    {
     "name": "stdout",
     "output_type": "stream",
     "text": [
      "0\n",
      "----------End Of Loop----------\n",
      "1\n",
      "----------End Of Loop----------\n",
      "2\n",
      "----------End Of Loop----------\n",
      "3\n",
      "----------End Of Loop----------\n",
      "4\n",
      "----------End Of Loop----------\n",
      "5\n",
      "----------End Of Loop----------\n",
      "6\n",
      "----------End Of Loop----------\n",
      "7\n",
      "----------End Of Loop----------\n",
      "8\n",
      "----------End Of Loop----------\n",
      "9\n",
      "----------End Of Loop----------\n",
      "10\n",
      "----------End Of Loop----------\n"
     ]
    }
   ],
   "source": [
    "counter = 0\n",
    "\n",
    "while(counter <= 10):\n",
    "    print(counter)\n",
    "    counter +=1\n",
    "    print(\"----------End Of Loop----------\")    "
   ]
  },
  {
   "cell_type": "markdown",
   "metadata": {},
   "source": [
    "# for loops"
   ]
  },
  {
   "cell_type": "code",
   "execution_count": null,
   "metadata": {},
   "outputs": [],
   "source": [
    "\"\"\"\n",
    "range(start,stop,step)\n",
    "\n",
    "start   default 0\n",
    "stop    mandatory, upper bounds are excluded\n",
    "step    default 1\n",
    "\"\"\""
   ]
  },
  {
   "cell_type": "code",
   "execution_count": null,
   "metadata": {},
   "outputs": [],
   "source": [
    "for i in range(1,10):           # Start 1  Stop 10  Step 1\n",
    "    print(i)"
   ]
  },
  {
   "cell_type": "code",
   "execution_count": null,
   "metadata": {},
   "outputs": [],
   "source": [
    "for i in range(5):           # Start 0  Stop 5  Step 1\n",
    "    print(i)"
   ]
  },
  {
   "cell_type": "code",
   "execution_count": null,
   "metadata": {},
   "outputs": [],
   "source": [
    "for i in range(10,100,10):           # Start 10  Stop 100  Step 10\n",
    "    print(i)"
   ]
  },
  {
   "cell_type": "code",
   "execution_count": null,
   "metadata": {},
   "outputs": [],
   "source": [
    "for i in range(10,0,-1):           # Start 10  Stop 0  Step -1\n",
    "    print(i)"
   ]
  },
  {
   "cell_type": "markdown",
   "metadata": {},
   "source": [
    "# List"
   ]
  },
  {
   "cell_type": "code",
   "execution_count": 17,
   "metadata": {},
   "outputs": [],
   "source": [
    "mList = [11,22,33,44,55,66,77,88,99]"
   ]
  },
  {
   "cell_type": "code",
   "execution_count": 18,
   "metadata": {},
   "outputs": [
    {
     "name": "stdout",
     "output_type": "stream",
     "text": [
      "Value of List [11, 22, 33, 44, 55, 66, 77, 88, 99]\n",
      "Datatype of List  <class 'list'>\n",
      "Number of elements in List  9\n"
     ]
    }
   ],
   "source": [
    "print(\"Value of List\", mList)\n",
    "print(\"Datatype of List \", type(mList))\n",
    "print(\"Number of elements in List \", len(mList))"
   ]
  },
  {
   "cell_type": "code",
   "execution_count": 19,
   "metadata": {},
   "outputs": [
    {
     "name": "stdout",
     "output_type": "stream",
     "text": [
      "11\n",
      "33\n",
      "44\n",
      "66\n"
     ]
    }
   ],
   "source": [
    "print(mList[0])\n",
    "print(mList[2])\n",
    "print(mList[3])\n",
    "print(mList[5])"
   ]
  },
  {
   "cell_type": "code",
   "execution_count": 20,
   "metadata": {},
   "outputs": [
    {
     "data": {
      "text/plain": [
       "[11, 22, 33, 44, 55, 66, 77, 88, 99]"
      ]
     },
     "execution_count": 20,
     "metadata": {},
     "output_type": "execute_result"
    }
   ],
   "source": [
    "mList"
   ]
  },
  {
   "cell_type": "code",
   "execution_count": 21,
   "metadata": {},
   "outputs": [
    {
     "name": "stdout",
     "output_type": "stream",
     "text": [
      "[11, 22, 33, 44, 55, 66, 77, 88, 99, 5]\n"
     ]
    }
   ],
   "source": [
    "mList.append(5)\n",
    "print(mList)"
   ]
  },
  {
   "cell_type": "code",
   "execution_count": 22,
   "metadata": {},
   "outputs": [
    {
     "name": "stdout",
     "output_type": "stream",
     "text": [
      "[11, 22, 33, 44, 55, 66, 77, 88, 99, 5, 97]\n"
     ]
    }
   ],
   "source": [
    "mList.append(97)\n",
    "print(mList)"
   ]
  },
  {
   "cell_type": "code",
   "execution_count": 23,
   "metadata": {},
   "outputs": [
    {
     "name": "stdout",
     "output_type": "stream",
     "text": [
      "[5, 11, 22, 33, 44, 55, 66, 77, 88, 97, 99]\n"
     ]
    }
   ],
   "source": [
    "mList.sort()\n",
    "print(mList)"
   ]
  },
  {
   "cell_type": "code",
   "execution_count": 24,
   "metadata": {},
   "outputs": [
    {
     "name": "stdout",
     "output_type": "stream",
     "text": [
      "[5, 11, 22, 33, 44, 55, 66, 77, 88, 97, 99, [111, 222, 333]]\n"
     ]
    }
   ],
   "source": [
    "mList.append([111,222,333])\n",
    "print(mList)"
   ]
  },
  {
   "cell_type": "code",
   "execution_count": 26,
   "metadata": {},
   "outputs": [
    {
     "name": "stdout",
     "output_type": "stream",
     "text": [
      "[111, 222, 333]\n",
      "222\n"
     ]
    }
   ],
   "source": [
    "print(mList[11])\n",
    "print(mList[11][1])"
   ]
  },
  {
   "cell_type": "code",
   "execution_count": 27,
   "metadata": {
    "collapsed": true
   },
   "outputs": [
    {
     "name": "stdout",
     "output_type": "stream",
     "text": [
      "5\n",
      "11\n",
      "22\n",
      "33\n",
      "44\n",
      "55\n",
      "66\n",
      "77\n",
      "88\n",
      "97\n",
      "99\n",
      "[111, 222, 333]\n"
     ]
    }
   ],
   "source": [
    "for i in mList:\n",
    "    print(i)"
   ]
  },
  {
   "cell_type": "code",
   "execution_count": 32,
   "metadata": {},
   "outputs": [
    {
     "name": "stdout",
     "output_type": "stream",
     "text": [
      "Type  <class 'list'>\n",
      "Value  [11]\n"
     ]
    }
   ],
   "source": [
    "sList = [11]\n",
    "print(\"Type \", type(sList))\n",
    "print(\"Value \", sList)"
   ]
  },
  {
   "cell_type": "markdown",
   "metadata": {},
   "source": [
    "# Tuple"
   ]
  },
  {
   "cell_type": "code",
   "execution_count": 34,
   "metadata": {},
   "outputs": [
    {
     "name": "stdout",
     "output_type": "stream",
     "text": [
      "Type  <class 'tuple'>\n",
      "Value  (11,)\n"
     ]
    }
   ],
   "source": [
    "mTuple = (11,) # Tuple with singe element\n",
    "print(\"Type \", type(mTuple))\n",
    "print(\"Value \", mTuple)"
   ]
  },
  {
   "cell_type": "markdown",
   "metadata": {},
   "source": [
    "# Dictionary"
   ]
  },
  {
   "cell_type": "code",
   "execution_count": 35,
   "metadata": {},
   "outputs": [],
   "source": [
    "empDict = {\"eid\":100,\"name\":\"Steven\",\"salary\":24000.11,\"bonus\":5000}"
   ]
  },
  {
   "cell_type": "code",
   "execution_count": 37,
   "metadata": {
    "collapsed": true
   },
   "outputs": [
    {
     "name": "stdout",
     "output_type": "stream",
     "text": [
      "Datatype <class 'dict'>\n",
      "Dictioanry val  {'eid': 100, 'name': 'Steven', 'salary': 24000.11, 'bonus': 5000}\n",
      "Only Keys dict_keys(['eid', 'name', 'salary', 'bonus'])\n",
      "Only Values dict_values([100, 'Steven', 24000.11, 5000])\n",
      "Value at key name  Steven\n"
     ]
    }
   ],
   "source": [
    "print(\"Datatype\", type(empDict))\n",
    "print(\"Dictioanry val \", empDict)\n",
    "print(\"Only Keys\", empDict.keys())\n",
    "print(\"Only Values\", empDict.values())\n",
    "print(\"Value at key name \", empDict[\"name\"])"
   ]
  },
  {
   "cell_type": "code",
   "execution_count": 39,
   "metadata": {
    "collapsed": true
   },
   "outputs": [
    {
     "name": "stdout",
     "output_type": "stream",
     "text": [
      "eid 100\n",
      "name Steven\n",
      "salary 24000.11\n",
      "bonus 5000\n"
     ]
    }
   ],
   "source": [
    "for i in empDict:\n",
    "    print(i, empDict[i])"
   ]
  },
  {
   "cell_type": "code",
   "execution_count": 40,
   "metadata": {},
   "outputs": [
    {
     "data": {
      "text/plain": [
       "{'bonus': 5000, 'eid': 100, 'name': 'Steven', 'salary': 24000.11}"
      ]
     },
     "execution_count": 40,
     "metadata": {},
     "output_type": "execute_result"
    }
   ],
   "source": [
    "empDict"
   ]
  },
  {
   "cell_type": "code",
   "execution_count": 43,
   "metadata": {},
   "outputs": [],
   "source": [
    "empDict[\"job\"] = \"SalesRep\"\n",
    "empDict[\"name\"] = \"Lee\""
   ]
  },
  {
   "cell_type": "code",
   "execution_count": 45,
   "metadata": {},
   "outputs": [
    {
     "data": {
      "text/plain": [
       "{'bonus': 5000,\n",
       " 'eid': 100,\n",
       " 'job': 'SalesRep',\n",
       " 'name': 'Lee',\n",
       " 'salary': 24000.11}"
      ]
     },
     "execution_count": 45,
     "metadata": {},
     "output_type": "execute_result"
    }
   ],
   "source": [
    "empDict"
   ]
  },
  {
   "cell_type": "code",
   "execution_count": 46,
   "metadata": {},
   "outputs": [],
   "source": [
    "empDict[\"holidays\"] = [\"Saturday\",\"Sunday\",\"Bank holidays\"]"
   ]
  },
  {
   "cell_type": "code",
   "execution_count": 48,
   "metadata": {},
   "outputs": [],
   "source": [
    "empDict['eid'] =[100,101,102,103]\n",
    "empDict['name'] = ['stev','lee','neena','john']"
   ]
  },
  {
   "cell_type": "code",
   "execution_count": 49,
   "metadata": {},
   "outputs": [
    {
     "data": {
      "text/plain": [
       "{'bonus': 5000,\n",
       " 'eid': [100, 101, 102, 103],\n",
       " 'holidays': ['Saturday', 'Sunday', 'Bank holidays'],\n",
       " 'job': 'SalesRep',\n",
       " 'name': ['stev', 'lee', 'neena', 'john'],\n",
       " 'salary': 24000.11}"
      ]
     },
     "execution_count": 49,
     "metadata": {},
     "output_type": "execute_result"
    }
   ],
   "source": [
    "empDict"
   ]
  }
 ],
 "metadata": {
  "kernelspec": {
   "display_name": "Python 3",
   "language": "python",
   "name": "python3"
  },
  "language_info": {
   "codemirror_mode": {
    "name": "ipython",
    "version": 3
   },
   "file_extension": ".py",
   "mimetype": "text/x-python",
   "name": "python",
   "nbconvert_exporter": "python",
   "pygments_lexer": "ipython3",
   "version": "3.6.4"
  }
 },
 "nbformat": 4,
 "nbformat_minor": 2
}
