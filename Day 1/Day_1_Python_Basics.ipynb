{
 "cells": [
  {
   "cell_type": "markdown",
   "id": "7c741863",
   "metadata": {},
   "source": [
    "# Day 1 - Python Basics"
   ]
  },
  {
   "cell_type": "markdown",
   "id": "bf451ae3",
   "metadata": {},
   "source": [
    "To know the python version:"
   ]
  },
  {
   "cell_type": "code",
   "execution_count": 2,
   "id": "e9a85d49",
   "metadata": {},
   "outputs": [
    {
     "name": "stdout",
     "output_type": "stream",
     "text": [
      "Python version: 3.8.8\n"
     ]
    }
   ],
   "source": [
    "from platform import python_version\n",
    "print(f\"Python version: {python_version()}\")"
   ]
  },
  {
   "cell_type": "markdown",
   "id": "38afcfbc",
   "metadata": {},
   "source": [
    "### Variable Declaration"
   ]
  },
  {
   "cell_type": "code",
   "execution_count": 6,
   "id": "4267069d",
   "metadata": {},
   "outputs": [],
   "source": [
    "salary = 24000.98 # type inferencing"
   ]
  },
  {
   "cell_type": "code",
   "execution_count": 7,
   "id": "5b5a723b",
   "metadata": {},
   "outputs": [
    {
     "name": "stdout",
     "output_type": "stream",
     "text": [
      "Datatype  <class 'float'>\n",
      "Value 24000.98\n"
     ]
    }
   ],
   "source": [
    "print(\"Datatype \", type(salary))\n",
    "print(\"Value\", salary)"
   ]
  },
  {
   "cell_type": "code",
   "execution_count": 8,
   "id": "f7bda658",
   "metadata": {},
   "outputs": [],
   "source": [
    "bonus = 5000\n",
    "indicator = True\n",
    "name = \"Vishali\""
   ]
  },
  {
   "cell_type": "code",
   "execution_count": 9,
   "id": "79ea9f3d",
   "metadata": {},
   "outputs": [
    {
     "name": "stdout",
     "output_type": "stream",
     "text": [
      "Vishali True 5000\n"
     ]
    }
   ],
   "source": [
    "print(name, indicator, bonus)"
   ]
  },
  {
   "cell_type": "code",
   "execution_count": 12,
   "id": "bd1cadbd",
   "metadata": {},
   "outputs": [
    {
     "name": "stdout",
     "output_type": "stream",
     "text": [
      "<class 'str'> <class 'bool'> <class 'int'>\n"
     ]
    }
   ],
   "source": [
    "print(type(name), type(indicator), type(bonus))"
   ]
  },
  {
   "cell_type": "markdown",
   "id": "ae025e80",
   "metadata": {},
   "source": [
    "### Arithmetic Operations"
   ]
  },
  {
   "cell_type": "code",
   "execution_count": 13,
   "id": "28caae53",
   "metadata": {},
   "outputs": [
    {
     "name": "stdout",
     "output_type": "stream",
     "text": [
      "Calculation:  1400\n",
      "Comparision: True\n"
     ]
    }
   ],
   "source": [
    "num1 = 10\n",
    "num2 = 20\n",
    "\n",
    "result = (num1*10 + num2*40)+500\n",
    "print(\"Calculation: \", result)\n",
    "\n",
    "result = (num1 <num2) and (num1 != num2)\n",
    "print(\"Comparision:\", result)"
   ]
  },
  {
   "cell_type": "markdown",
   "id": "dcf9c68e",
   "metadata": {},
   "source": [
    "### While Loops\n",
    "\n",
    "No {} brackets\n",
    "\n",
    "Indentation is important"
   ]
  },
  {
   "cell_type": "code",
   "execution_count": 17,
   "id": "a9d73d5d",
   "metadata": {},
   "outputs": [
    {
     "name": "stdout",
     "output_type": "stream",
     "text": [
      "0\n",
      "-------------End of Loop------------\n",
      "1\n",
      "-------------End of Loop------------\n",
      "2\n",
      "-------------End of Loop------------\n",
      "3\n",
      "-------------End of Loop------------\n",
      "4\n",
      "-------------End of Loop------------\n",
      "5\n",
      "-------------End of Loop------------\n",
      "6\n",
      "-------------End of Loop------------\n",
      "7\n",
      "-------------End of Loop------------\n",
      "8\n",
      "-------------End of Loop------------\n",
      "9\n",
      "-------------End of Loop------------\n",
      "10\n",
      "-------------End of Loop------------\n"
     ]
    }
   ],
   "source": [
    "# Indentation should be proper:\n",
    "counter = 0\n",
    "while(counter <= 10):\n",
    "    print(counter)\n",
    "    counter += 1\n",
    "    # counter = counter + 1\n",
    "    print(\"-------------End of Loop------------\")"
   ]
  },
  {
   "cell_type": "code",
   "execution_count": 18,
   "id": "6e96cfb3",
   "metadata": {},
   "outputs": [
    {
     "name": "stdout",
     "output_type": "stream",
     "text": [
      "0\n",
      "1\n",
      "2\n",
      "3\n",
      "4\n",
      "5\n",
      "6\n",
      "7\n",
      "8\n",
      "9\n",
      "10\n",
      "-------------End of Loop------------\n"
     ]
    }
   ],
   "source": [
    "counter = 0\n",
    "while(counter <= 10):\n",
    "    print(counter)\n",
    "    counter += 1\n",
    "    # counter = counter + 1\n",
    "print(\"-------------End of Loop------------\")"
   ]
  },
  {
   "cell_type": "markdown",
   "id": "e37415e7",
   "metadata": {},
   "source": [
    "### For loop"
   ]
  },
  {
   "cell_type": "markdown",
   "id": "574645c9",
   "metadata": {},
   "source": [
    "for ---------- in ------:\n",
    "\n",
    "    Range of values to iterate"
   ]
  },
  {
   "cell_type": "markdown",
   "id": "7f916b8f",
   "metadata": {},
   "source": [
    "range(start, stop, step)\n",
    "\n",
    "start default 0\n",
    "\n",
    "stop mandatory, upper bounds are excluded\n",
    "\n",
    "step default 1"
   ]
  },
  {
   "cell_type": "code",
   "execution_count": 20,
   "id": "b030459a",
   "metadata": {},
   "outputs": [
    {
     "name": "stdout",
     "output_type": "stream",
     "text": [
      "1\n",
      "2\n",
      "3\n",
      "4\n",
      "5\n",
      "6\n",
      "7\n",
      "8\n",
      "9\n"
     ]
    }
   ],
   "source": [
    "for i in range(1,10): # Start 1 stop 10 step 1\n",
    "    print(i)"
   ]
  },
  {
   "cell_type": "code",
   "execution_count": 22,
   "id": "987e7736",
   "metadata": {},
   "outputs": [
    {
     "name": "stdout",
     "output_type": "stream",
     "text": [
      "0\n",
      "1\n",
      "2\n",
      "3\n",
      "4\n"
     ]
    }
   ],
   "source": [
    "for i in range(5): # Start 1 stop 5 step 1\n",
    "    print(i)"
   ]
  },
  {
   "cell_type": "code",
   "execution_count": 23,
   "id": "1cf7c262",
   "metadata": {},
   "outputs": [
    {
     "name": "stdout",
     "output_type": "stream",
     "text": [
      "10\n",
      "20\n",
      "30\n",
      "40\n",
      "50\n",
      "60\n",
      "70\n",
      "80\n",
      "90\n"
     ]
    }
   ],
   "source": [
    "for i in range(10, 100, 10): # Start 10 stop 100 step 10\n",
    "    print(i)"
   ]
  },
  {
   "cell_type": "code",
   "execution_count": 24,
   "id": "50fc966b",
   "metadata": {},
   "outputs": [
    {
     "name": "stdout",
     "output_type": "stream",
     "text": [
      "10\n",
      "9\n",
      "8\n",
      "7\n",
      "6\n",
      "5\n",
      "4\n",
      "3\n",
      "2\n",
      "1\n"
     ]
    }
   ],
   "source": [
    "for i in range(10, 0, -1): # Start 10 stop0 step -1\n",
    "    print(i)"
   ]
  },
  {
   "cell_type": "markdown",
   "id": "657d5bfc",
   "metadata": {},
   "source": [
    "### Data structure in python\n",
    "    create Access\n",
    "1) List            []              []\n",
    "\n",
    "2) Tuple           ()              []\n",
    "\n",
    "3) Dictionary      {}              []"
   ]
  },
  {
   "cell_type": "markdown",
   "id": "3abed104",
   "metadata": {},
   "source": [
    "### List"
   ]
  },
  {
   "cell_type": "code",
   "execution_count": 26,
   "id": "9d468324",
   "metadata": {},
   "outputs": [
    {
     "name": "stdout",
     "output_type": "stream",
     "text": [
      "Value of list [11, 22, 33, 44, 55, 66, 77, 8, 99]\n",
      "Datatype of List <class 'list'>\n",
      "Number of elements in List 9\n"
     ]
    }
   ],
   "source": [
    "mList = [11,22,33,44,55,66,77,8,99]\n",
    "print(\"Value of list\", mList)\n",
    "print(\"Datatype of List\", type(mList))\n",
    "print(\"Number of elements in List\", len(mList))"
   ]
  },
  {
   "cell_type": "markdown",
   "id": "e3ad08a1",
   "metadata": {},
   "source": [
    "### To access the List"
   ]
  },
  {
   "cell_type": "code",
   "execution_count": 27,
   "id": "7de49eab",
   "metadata": {},
   "outputs": [
    {
     "name": "stdout",
     "output_type": "stream",
     "text": [
      "11\n",
      "33\n",
      "44\n",
      "66\n"
     ]
    }
   ],
   "source": [
    "print(mList[0])\n",
    "print(mList[2])\n",
    "print(mList[3])\n",
    "print(mList[5])"
   ]
  },
  {
   "cell_type": "code",
   "execution_count": 28,
   "id": "7c259ac0",
   "metadata": {},
   "outputs": [
    {
     "data": {
      "text/plain": [
       "[11, 22, 33, 44, 55, 66, 77, 8, 99]"
      ]
     },
     "execution_count": 28,
     "metadata": {},
     "output_type": "execute_result"
    }
   ],
   "source": [
    "mList"
   ]
  },
  {
   "cell_type": "code",
   "execution_count": 30,
   "id": "ebf91e57",
   "metadata": {},
   "outputs": [
    {
     "data": {
      "text/plain": [
       "[11, 22, 33, 44, 55, 66, 77, 8, 99, 5, 5]"
      ]
     },
     "execution_count": 30,
     "metadata": {},
     "output_type": "execute_result"
    }
   ],
   "source": [
    "mList.append(5)\n",
    "mList"
   ]
  },
  {
   "cell_type": "code",
   "execution_count": 31,
   "id": "03319ca2",
   "metadata": {},
   "outputs": [
    {
     "data": {
      "text/plain": [
       "[11, 22, 33, 44, 55, 66, 77, 8, 99, 5, 5, 97]"
      ]
     },
     "execution_count": 31,
     "metadata": {},
     "output_type": "execute_result"
    }
   ],
   "source": [
    "mList.append(97)\n",
    "mList"
   ]
  },
  {
   "cell_type": "code",
   "execution_count": 32,
   "id": "4ab7f978",
   "metadata": {},
   "outputs": [
    {
     "data": {
      "text/plain": [
       "[5, 5, 8, 11, 22, 33, 44, 55, 66, 77, 97, 99]"
      ]
     },
     "execution_count": 32,
     "metadata": {},
     "output_type": "execute_result"
    }
   ],
   "source": [
    "mList.sort()\n",
    "mList"
   ]
  },
  {
   "cell_type": "code",
   "execution_count": 33,
   "id": "ceef4253",
   "metadata": {},
   "outputs": [
    {
     "data": {
      "text/plain": [
       "[5, 5, 8, 11, 22, 33, 44, 55, 66, 77, 97, 99, [111, 222, 333]]"
      ]
     },
     "execution_count": 33,
     "metadata": {},
     "output_type": "execute_result"
    }
   ],
   "source": [
    "mList.append([111,222,333])\n",
    "mList"
   ]
  },
  {
   "cell_type": "code",
   "execution_count": 36,
   "id": "24cd599a",
   "metadata": {},
   "outputs": [
    {
     "name": "stdout",
     "output_type": "stream",
     "text": [
      "[111, 222, 333]\n",
      "222\n"
     ]
    }
   ],
   "source": [
    "print(mList[12])\n",
    "print(mList[12][1])"
   ]
  },
  {
   "cell_type": "code",
   "execution_count": 37,
   "id": "f16aaa2f",
   "metadata": {},
   "outputs": [
    {
     "name": "stdout",
     "output_type": "stream",
     "text": [
      "5\n",
      "5\n",
      "8\n",
      "11\n",
      "22\n",
      "33\n",
      "44\n",
      "55\n",
      "66\n",
      "77\n",
      "97\n",
      "99\n",
      "[111, 222, 333]\n",
      "[11]\n"
     ]
    }
   ],
   "source": [
    "for i in mList:\n",
    "    print(i)"
   ]
  },
  {
   "cell_type": "markdown",
   "id": "eec8e1b4",
   "metadata": {},
   "source": [
    "### List is muttable in nature"
   ]
  },
  {
   "cell_type": "markdown",
   "id": "bdd4195e",
   "metadata": {},
   "source": [
    "### Tuples:\n",
    "    \n",
    "    Immutable list of values"
   ]
  },
  {
   "cell_type": "code",
   "execution_count": 38,
   "id": "e23d8dd7",
   "metadata": {},
   "outputs": [],
   "source": [
    "myTuple = (1,2,3,4)"
   ]
  },
  {
   "cell_type": "code",
   "execution_count": 39,
   "id": "1035acca",
   "metadata": {},
   "outputs": [
    {
     "data": {
      "text/plain": [
       "(1, 2, 3, 4)"
      ]
     },
     "execution_count": 39,
     "metadata": {},
     "output_type": "execute_result"
    }
   ],
   "source": [
    "myTuple[:]"
   ]
  },
  {
   "cell_type": "code",
   "execution_count": 43,
   "id": "111e8ffd",
   "metadata": {},
   "outputs": [
    {
     "data": {
      "text/plain": [
       "(1, 2, 3, 4)"
      ]
     },
     "execution_count": 43,
     "metadata": {},
     "output_type": "execute_result"
    }
   ],
   "source": [
    "myTuple"
   ]
  },
  {
   "cell_type": "code",
   "execution_count": 40,
   "id": "5ff36968",
   "metadata": {},
   "outputs": [
    {
     "data": {
      "text/plain": [
       "tuple"
      ]
     },
     "execution_count": 40,
     "metadata": {},
     "output_type": "execute_result"
    }
   ],
   "source": [
    "type(myTuple)"
   ]
  },
  {
   "cell_type": "code",
   "execution_count": 41,
   "id": "d77fdc66",
   "metadata": {},
   "outputs": [
    {
     "data": {
      "text/plain": [
       "4"
      ]
     },
     "execution_count": 41,
     "metadata": {},
     "output_type": "execute_result"
    }
   ],
   "source": [
    "len(myTuple)"
   ]
  },
  {
   "cell_type": "code",
   "execution_count": 42,
   "id": "89f82d83",
   "metadata": {},
   "outputs": [
    {
     "ename": "TypeError",
     "evalue": "'tuple' object does not support item assignment",
     "output_type": "error",
     "traceback": [
      "\u001b[1;31m---------------------------------------------------------------------------\u001b[0m",
      "\u001b[1;31mTypeError\u001b[0m                                 Traceback (most recent call last)",
      "\u001b[1;32m<ipython-input-42-14a5da986167>\u001b[0m in \u001b[0;36m<module>\u001b[1;34m\u001b[0m\n\u001b[1;32m----> 1\u001b[1;33m \u001b[0mmyTuple\u001b[0m\u001b[1;33m[\u001b[0m\u001b[1;36m0\u001b[0m\u001b[1;33m]\u001b[0m \u001b[1;33m=\u001b[0m \u001b[1;36m7\u001b[0m\u001b[1;33m\u001b[0m\u001b[1;33m\u001b[0m\u001b[0m\n\u001b[0m",
      "\u001b[1;31mTypeError\u001b[0m: 'tuple' object does not support item assignment"
     ]
    }
   ],
   "source": [
    "myTuple[0] = 7 # Error"
   ]
  },
  {
   "cell_type": "code",
   "execution_count": 44,
   "id": "5ec11d40",
   "metadata": {},
   "outputs": [
    {
     "data": {
      "text/plain": [
       "[11]"
      ]
     },
     "execution_count": 44,
     "metadata": {},
     "output_type": "execute_result"
    }
   ],
   "source": [
    "slist = [11]\n",
    "slist"
   ]
  },
  {
   "cell_type": "code",
   "execution_count": 45,
   "id": "c57e7d23",
   "metadata": {},
   "outputs": [
    {
     "data": {
      "text/plain": [
       "11"
      ]
     },
     "execution_count": 45,
     "metadata": {},
     "output_type": "execute_result"
    }
   ],
   "source": [
    "stuple = (11)\n",
    "stuple"
   ]
  },
  {
   "cell_type": "code",
   "execution_count": 46,
   "id": "b0f0a9a5",
   "metadata": {},
   "outputs": [
    {
     "data": {
      "text/plain": [
       "int"
      ]
     },
     "execution_count": 46,
     "metadata": {},
     "output_type": "execute_result"
    }
   ],
   "source": [
    "type(stuple) "
   ]
  },
  {
   "cell_type": "code",
   "execution_count": 48,
   "id": "bcc8f963",
   "metadata": {},
   "outputs": [
    {
     "name": "stdout",
     "output_type": "stream",
     "text": [
      "(11,)\n",
      "<class 'tuple'>\n"
     ]
    }
   ],
   "source": [
    "# in order to create single element tuple, insert commas\n",
    "stuple = (11,)\n",
    "print(stuple)\n",
    "print(type(stuple))"
   ]
  },
  {
   "cell_type": "markdown",
   "id": "a6b1d3ed",
   "metadata": {},
   "source": [
    "### Dictionary\n",
    "\n",
    "Key-value pair"
   ]
  },
  {
   "cell_type": "code",
   "execution_count": 49,
   "id": "9fcdae88",
   "metadata": {},
   "outputs": [],
   "source": [
    "empDict = {\"eid\":100, \"name\": \"Vishali\", \"salary\": 24000.11, \"bonus\": 5000}"
   ]
  },
  {
   "cell_type": "code",
   "execution_count": 53,
   "id": "a645eaec",
   "metadata": {},
   "outputs": [
    {
     "name": "stdout",
     "output_type": "stream",
     "text": [
      "Datatype <class 'dict'>\n",
      "\n",
      "Dictionary values {'eid': 100, 'name': 'Vishali', 'salary': 24000.11, 'bonus': 5000}\n",
      "\n",
      "Only Keys <built-in method keys of dict object at 0x00000264EE06B3C0>\n",
      "\n",
      "Only Values dict_values([100, 'Vishali', 24000.11, 5000])\n",
      "\n",
      "Value at key name Vishali\n"
     ]
    }
   ],
   "source": [
    "print(\"Datatype\", type(empDict))\n",
    "print(\"\\nDictionary values\", empDict)\n",
    "print(\"\\nOnly Keys\", empDict.keys)\n",
    "print(\"\\nOnly Values\", empDict.values())\n",
    "print(\"\\nValue at key name\", empDict[\"name\"])"
   ]
  },
  {
   "cell_type": "code",
   "execution_count": 52,
   "id": "02e8f32b",
   "metadata": {},
   "outputs": [
    {
     "name": "stdout",
     "output_type": "stream",
     "text": [
      "eid 100\n",
      "name Vishali\n",
      "salary 24000.11\n",
      "bonus 5000\n"
     ]
    }
   ],
   "source": [
    "for i in empDict:\n",
    "    print(i, empDict[i])"
   ]
  },
  {
   "cell_type": "code",
   "execution_count": 54,
   "id": "bf51d432",
   "metadata": {},
   "outputs": [
    {
     "data": {
      "text/plain": [
       "{'eid': 100, 'name': 'Vishali', 'salary': 24000.11, 'bonus': 5000}"
      ]
     },
     "execution_count": 54,
     "metadata": {},
     "output_type": "execute_result"
    }
   ],
   "source": [
    "empDict"
   ]
  },
  {
   "cell_type": "code",
   "execution_count": 55,
   "id": "cd5b7e2a",
   "metadata": {},
   "outputs": [],
   "source": [
    "empDict[\"job\"] = \"SalesRep\""
   ]
  },
  {
   "cell_type": "code",
   "execution_count": 56,
   "id": "c10114ff",
   "metadata": {},
   "outputs": [
    {
     "data": {
      "text/plain": [
       "{'eid': 100,\n",
       " 'name': 'Vishali',\n",
       " 'salary': 24000.11,\n",
       " 'bonus': 5000,\n",
       " 'job': 'SalesRep'}"
      ]
     },
     "execution_count": 56,
     "metadata": {},
     "output_type": "execute_result"
    }
   ],
   "source": [
    "empDict"
   ]
  },
  {
   "cell_type": "markdown",
   "id": "5713444e",
   "metadata": {},
   "source": [
    "### Dictionary is muttable"
   ]
  },
  {
   "cell_type": "code",
   "execution_count": 58,
   "id": "2dd5470a",
   "metadata": {},
   "outputs": [
    {
     "data": {
      "text/plain": [
       "{'eid': 100,\n",
       " 'name': 'Revanth',\n",
       " 'salary': 24000.11,\n",
       " 'bonus': 5000,\n",
       " 'job': 'SalesRep'}"
      ]
     },
     "execution_count": 58,
     "metadata": {},
     "output_type": "execute_result"
    }
   ],
   "source": [
    "empDict[\"name\"] = \"Revanth\"\n",
    "empDict"
   ]
  },
  {
   "cell_type": "code",
   "execution_count": 61,
   "id": "5fd3cd77",
   "metadata": {},
   "outputs": [
    {
     "data": {
      "text/plain": [
       "{'eid': 100,\n",
       " 'name': 'vishali',\n",
       " 'salary': 24000.11,\n",
       " 'bonus': 5000,\n",
       " 'job': 'SalesRep'}"
      ]
     },
     "execution_count": 61,
     "metadata": {},
     "output_type": "execute_result"
    }
   ],
   "source": [
    "emp = {\"name\": \"vishali\"}\n",
    "empDict.update(emp)\n",
    "empDict"
   ]
  },
  {
   "cell_type": "code",
   "execution_count": 62,
   "id": "7772cc05",
   "metadata": {},
   "outputs": [
    {
     "data": {
      "text/plain": [
       "{'eid': 100,\n",
       " 'name': 'vishali',\n",
       " 'salary': 24000.11,\n",
       " 'bonus': 5000,\n",
       " 'job': 'SalesRep',\n",
       " 'holidays': ['Saturday', 'Sunday']}"
      ]
     },
     "execution_count": 62,
     "metadata": {},
     "output_type": "execute_result"
    }
   ],
   "source": [
    "empDict[\"holidays\"] = [\"Saturday\",\"Sunday\"]\n",
    "empDict"
   ]
  },
  {
   "cell_type": "code",
   "execution_count": 63,
   "id": "c68af0b1",
   "metadata": {},
   "outputs": [
    {
     "data": {
      "text/plain": [
       "{'eid': [1, 2, 3, 4, 5],\n",
       " 'name': ['vishali', 'revanth', 'yamini', 'srinivasan'],\n",
       " 'salary': 24000.11,\n",
       " 'bonus': 5000,\n",
       " 'job': 'SalesRep',\n",
       " 'holidays': ['Saturday', 'Sunday']}"
      ]
     },
     "execution_count": 63,
     "metadata": {},
     "output_type": "execute_result"
    }
   ],
   "source": [
    "empDict[\"eid\"] = [1,2,3,4,5]\n",
    "empDict[\"name\"] = [\"vishali\",\"revanth\",\"yamini\",\"srinivasan\"]\n",
    "empDict"
   ]
  },
  {
   "cell_type": "markdown",
   "id": "5f20be5f",
   "metadata": {},
   "source": [
    "# Python Tutorial\n",
    "\n",
    "https://docs.python.org/3/tutorial/"
   ]
  },
  {
   "cell_type": "code",
   "execution_count": null,
   "id": "e1a12800",
   "metadata": {},
   "outputs": [],
   "source": []
  }
 ],
 "metadata": {
  "kernelspec": {
   "display_name": "Python 3",
   "language": "python",
   "name": "python3"
  },
  "language_info": {
   "codemirror_mode": {
    "name": "ipython",
    "version": 3
   },
   "file_extension": ".py",
   "mimetype": "text/x-python",
   "name": "python",
   "nbconvert_exporter": "python",
   "pygments_lexer": "ipython3",
   "version": "3.8.8"
  }
 },
 "nbformat": 4,
 "nbformat_minor": 5
}
