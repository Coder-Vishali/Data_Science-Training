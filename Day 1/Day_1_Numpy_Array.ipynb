{
 "cells": [
  {
   "cell_type": "markdown",
   "id": "ed8a0f47",
   "metadata": {},
   "source": [
    "# Packages in Python for Machine Learning"
   ]
  },
  {
   "cell_type": "markdown",
   "id": "853ca6a6",
   "metadata": {},
   "source": [
    "### Packages:\n",
    "    \n",
    "    1) Numpy  => Numeric array, high performance & learning process - quick\n",
    "    \n",
    "    2) Pandas => Pandas Dataframe\n",
    "    \n",
    "    3) Scipy => Complex Statistical Calculations\n",
    "    \n",
    "    4) Scikit => Algorithm implementation\n",
    "    \n",
    "    5) Matplotlib => Data Visualization\n",
    "    \n",
    "    6) Seaborn => Data Visualization"
   ]
  },
  {
   "cell_type": "markdown",
   "id": "641d6281",
   "metadata": {},
   "source": [
    "## Packages and Modules: \n",
    "\n",
    "### Modules: \n",
    "\n",
    "- Modules in Python are simply Python files with a .py extension \n",
    "\n",
    "- The name of the module will be the name of the file.  \n",
    "\n",
    "- A Python module can have a set of functions, classes or variables defined and implemented. \n",
    "\n",
    "- These are prebuilt. \n",
    "\n",
    "### Example: \n",
    "\n",
    "Module color (color.py) \n",
    "\n",
    "Function red() \n",
    "\n",
    "Function blue() \n",
    "\n",
    "Function green() \n",
    "\n",
    "### We will see how to import the module and use it. \n",
    "\n",
    "import color \n",
    "\n",
    "color.red() \n",
    "\n",
    "color.green() \n",
    "\n",
    "OR  \n",
    "\n",
    "from color import red, blue \n",
    "\n",
    "from color import * \n",
    "\n",
    "### Packages: \n",
    "\n",
    "- Packages are namespaces which contain multiple packages and module themselves. They are simply directories. \n",
    "\n",
    "- We create a directory “drawing” include module in it: color, line, rectangle, square and circle \n",
    "\n",
    "- To use line module from drawing package \n",
    "\n",
    "import drawing.line \n",
    "\n",
    "from drawing import circle \n",
    "\n",
    "import matplotlib.pyplot as plt \n",
    "\n",
    "from matplotlib import pyplot as plt2 \n",
    "\n",
    "### To Install a new packages: \n",
    "\n",
    "conda install <package_name> \n",
    "\n",
    "Or  \n",
    "\n",
    "pip install <package_name> "
   ]
  },
  {
   "cell_type": "markdown",
   "id": "ef985fa3",
   "metadata": {},
   "source": [
    "### Importing the Numpy Array"
   ]
  },
  {
   "cell_type": "code",
   "execution_count": 2,
   "id": "6a5690e9",
   "metadata": {},
   "outputs": [],
   "source": [
    "import numpy as np"
   ]
  },
  {
   "cell_type": "code",
   "execution_count": 3,
   "id": "ff632523",
   "metadata": {},
   "outputs": [
    {
     "data": {
      "text/plain": [
       "array([11, 22, 33, 44, 55, 66, 77, 88, 99])"
      ]
     },
     "execution_count": 3,
     "metadata": {},
     "output_type": "execute_result"
    }
   ],
   "source": [
    "arr = np.array([11,22,33,44,55,66,77,88,99])\n",
    "arr"
   ]
  },
  {
   "cell_type": "code",
   "execution_count": 4,
   "id": "5945ebaa",
   "metadata": {},
   "outputs": [
    {
     "name": "stdout",
     "output_type": "stream",
     "text": [
      "Value is array:  [11 22 33 44 55 66 77 88 99]\n",
      "Datatype:  <class 'numpy.ndarray'>\n",
      "Depth / Dimension:  1\n",
      "Size of each dimension:  (9,)\n",
      "Value at index 5:  66\n"
     ]
    }
   ],
   "source": [
    "print(\"Value is array: \", arr)\n",
    "print(\"Datatype: \", type(arr))\n",
    "print(\"Depth / Dimension: \", arr.ndim)\n",
    "print(\"Size of each dimension: \", arr.shape)\n",
    "print(\"Value at index 5: \", arr[5])"
   ]
  },
  {
   "cell_type": "markdown",
   "id": "6212f5b8",
   "metadata": {},
   "source": [
    "### Data retrival is something you can perform with numpy array"
   ]
  },
  {
   "cell_type": "markdown",
   "id": "f966e80c",
   "metadata": {},
   "source": [
    "### Slicing or traversing the array: \n",
    "\n",
    "Slicing or traversing the array: \n",
    "\n",
    "Syntax: letters[start: stop: step] \n",
    "\n",
    "Positive direction: letters[start: stop: 1] \n",
    "\n",
    "Negative direction: letters[start: stop: -1] "
   ]
  },
  {
   "cell_type": "code",
   "execution_count": 10,
   "id": "bdb3bfff",
   "metadata": {},
   "outputs": [
    {
     "data": {
      "text/plain": [
       "['A', 'B', 'C', 'D', 'E', 'F', 'G', 'H', 'I', 'J']"
      ]
     },
     "execution_count": 10,
     "metadata": {},
     "output_type": "execute_result"
    }
   ],
   "source": [
    "letters  = ['A', 'B', 'C', 'D', 'E', 'F', 'G', 'H', 'I', 'J']\n",
    "letters"
   ]
  },
  {
   "cell_type": "code",
   "execution_count": 11,
   "id": "77e3cfac",
   "metadata": {},
   "outputs": [
    {
     "data": {
      "text/plain": [
       "array(['A', 'B', 'C', 'D', 'E', 'F', 'G', 'H', 'I', 'J'], dtype='<U1')"
      ]
     },
     "execution_count": 11,
     "metadata": {},
     "output_type": "execute_result"
    }
   ],
   "source": [
    "letter_np = np.array(letters)\n",
    "letter_np"
   ]
  },
  {
   "cell_type": "code",
   "execution_count": 12,
   "id": "fc2e58dc",
   "metadata": {},
   "outputs": [
    {
     "data": {
      "text/plain": [
       "array(['C', 'D', 'E', 'F', 'G'], dtype='<U1')"
      ]
     },
     "execution_count": 12,
     "metadata": {},
     "output_type": "execute_result"
    }
   ],
   "source": [
    "letter_np[2:7]"
   ]
  },
  {
   "cell_type": "code",
   "execution_count": 13,
   "id": "a9413114",
   "metadata": {},
   "outputs": [
    {
     "data": {
      "text/plain": [
       "array(['C', 'D', 'E', 'F', 'G'], dtype='<U1')"
      ]
     },
     "execution_count": 13,
     "metadata": {},
     "output_type": "execute_result"
    }
   ],
   "source": [
    "letter_np[-8:-3]"
   ]
  },
  {
   "cell_type": "code",
   "execution_count": 15,
   "id": "e15596f1",
   "metadata": {},
   "outputs": [
    {
     "data": {
      "text/plain": [
       "array(['G', 'F', 'E', 'D'], dtype='<U1')"
      ]
     },
     "execution_count": 15,
     "metadata": {},
     "output_type": "execute_result"
    }
   ],
   "source": [
    "letter_np[6:2:-1]"
   ]
  },
  {
   "cell_type": "code",
   "execution_count": 16,
   "id": "fda1805b",
   "metadata": {},
   "outputs": [
    {
     "data": {
      "text/plain": [
       "array(['H', 'G', 'F', 'E', 'D', 'C'], dtype='<U1')"
      ]
     },
     "execution_count": 16,
     "metadata": {},
     "output_type": "execute_result"
    }
   ],
   "source": [
    "letter_np[-3:-9:-1]"
   ]
  },
  {
   "cell_type": "code",
   "execution_count": 17,
   "id": "d2dd6b72",
   "metadata": {},
   "outputs": [
    {
     "data": {
      "text/plain": [
       "array(['D', 'E', 'F', 'G', 'H'], dtype='<U1')"
      ]
     },
     "execution_count": 17,
     "metadata": {},
     "output_type": "execute_result"
    }
   ],
   "source": [
    "letter_np[3:-2:1]"
   ]
  },
  {
   "cell_type": "code",
   "execution_count": 18,
   "id": "0d6bb0a8",
   "metadata": {},
   "outputs": [
    {
     "data": {
      "text/plain": [
       "array(['C', 'D', 'E', 'F', 'G', 'H', 'I', 'J'], dtype='<U1')"
      ]
     },
     "execution_count": 18,
     "metadata": {},
     "output_type": "execute_result"
    }
   ],
   "source": [
    "# Get values from index 2 to end of array\n",
    "letter_np[2:] # Start: 2 End: end of list step: 1"
   ]
  },
  {
   "cell_type": "code",
   "execution_count": 19,
   "id": "be3fcda8",
   "metadata": {},
   "outputs": [
    {
     "data": {
      "text/plain": [
       "array(['A', 'B', 'C', 'D', 'E', 'F', 'G'], dtype='<U1')"
      ]
     },
     "execution_count": 19,
     "metadata": {},
     "output_type": "execute_result"
    }
   ],
   "source": [
    "# Get values from index 0 to 7th index\n",
    "letter_np[:7] # Start: 0 End: 7 step: 1 (End is not included)"
   ]
  },
  {
   "cell_type": "code",
   "execution_count": 20,
   "id": "0ef6a9aa",
   "metadata": {},
   "outputs": [
    {
     "data": {
      "text/plain": [
       "array(['C', 'D', 'E', 'F', 'G'], dtype='<U1')"
      ]
     },
     "execution_count": 20,
     "metadata": {},
     "output_type": "execute_result"
    }
   ],
   "source": [
    "# Get values from index 2 to 7 index\n",
    "letter_np[2:7] # Start: 2 End: 7 step: 1 "
   ]
  },
  {
   "cell_type": "code",
   "execution_count": 21,
   "id": "0a2f04ab",
   "metadata": {},
   "outputs": [
    {
     "data": {
      "text/plain": [
       "array(['A', 'B', 'C', 'D', 'E', 'F', 'G', 'H', 'I', 'J'], dtype='<U1')"
      ]
     },
     "execution_count": 21,
     "metadata": {},
     "output_type": "execute_result"
    }
   ],
   "source": [
    "# Get all values\n",
    "letter_np[:]"
   ]
  },
  {
   "cell_type": "code",
   "execution_count": 22,
   "id": "2273e50e",
   "metadata": {},
   "outputs": [
    {
     "data": {
      "text/plain": [
       "array(['A', 'B', 'C', 'D', 'E', 'F', 'G', 'H', 'I', 'J'], dtype='<U1')"
      ]
     },
     "execution_count": 22,
     "metadata": {},
     "output_type": "execute_result"
    }
   ],
   "source": [
    "# Get all values\n",
    "letter_np[::]"
   ]
  },
  {
   "cell_type": "code",
   "execution_count": 23,
   "id": "280067c1",
   "metadata": {},
   "outputs": [
    {
     "data": {
      "text/plain": [
       "array(['J', 'I', 'H', 'G', 'F', 'E', 'D', 'C', 'B', 'A'], dtype='<U1')"
      ]
     },
     "execution_count": 23,
     "metadata": {},
     "output_type": "execute_result"
    }
   ],
   "source": [
    "# Get all values in reverse order\n",
    "letter_np[::-1]"
   ]
  },
  {
   "cell_type": "code",
   "execution_count": 24,
   "id": "42f64be3",
   "metadata": {},
   "outputs": [
    {
     "data": {
      "text/plain": [
       "array(['A', 'D', 'G', 'J'], dtype='<U1')"
      ]
     },
     "execution_count": 24,
     "metadata": {},
     "output_type": "execute_result"
    }
   ],
   "source": [
    "letter_np[::3] # Start: 0 End: end of list step: 1"
   ]
  },
  {
   "cell_type": "code",
   "execution_count": 34,
   "id": "7295f0ea",
   "metadata": {},
   "outputs": [
    {
     "data": {
      "text/plain": [
       "array(['A', 'B', 'C', 'D', 'E', 'F', 'G', 'H', 'I'], dtype='<U1')"
      ]
     },
     "execution_count": 34,
     "metadata": {},
     "output_type": "execute_result"
    }
   ],
   "source": [
    "# Everything except last\n",
    "letter_np[0:-1]  # Start: 0 End: end of list step: 1"
   ]
  },
  {
   "cell_type": "code",
   "execution_count": 35,
   "id": "ded1e187",
   "metadata": {},
   "outputs": [
    {
     "data": {
      "text/plain": [
       "array(['A', 'B', 'C', 'D', 'E', 'F', 'G', 'H', 'I'], dtype='<U1')"
      ]
     },
     "execution_count": 35,
     "metadata": {},
     "output_type": "execute_result"
    }
   ],
   "source": [
    "letter_np[:-1] "
   ]
  },
  {
   "cell_type": "code",
   "execution_count": 33,
   "id": "c7c714c4",
   "metadata": {},
   "outputs": [
    {
     "data": {
      "text/plain": [
       "array(['J', 'I', 'H', 'G', 'F'], dtype='<U1')"
      ]
     },
     "execution_count": 33,
     "metadata": {},
     "output_type": "execute_result"
    }
   ],
   "source": [
    "# Last 5 elements in the array\n",
    "letter_np[:4:-1]"
   ]
  },
  {
   "cell_type": "code",
   "execution_count": 31,
   "id": "6c7e0c13",
   "metadata": {},
   "outputs": [
    {
     "data": {
      "text/plain": [
       "array(['F', 'G', 'H', 'I', 'J'], dtype='<U1')"
      ]
     },
     "execution_count": 31,
     "metadata": {},
     "output_type": "execute_result"
    }
   ],
   "source": [
    "letter_np[-5:]"
   ]
  },
  {
   "cell_type": "code",
   "execution_count": 36,
   "id": "0c684468",
   "metadata": {},
   "outputs": [
    {
     "data": {
      "text/plain": [
       "array(['J', 'I', 'H', 'G', 'F', 'E', 'D', 'C', 'B', 'A'], dtype='<U1')"
      ]
     },
     "execution_count": 36,
     "metadata": {},
     "output_type": "execute_result"
    }
   ],
   "source": [
    "# Reverse order\n",
    "letter_np[::-1] "
   ]
  },
  {
   "cell_type": "code",
   "execution_count": 37,
   "id": "5ddb1bf2",
   "metadata": {},
   "outputs": [
    {
     "ename": "IndexError",
     "evalue": "index 20 is out of bounds for axis 0 with size 10",
     "output_type": "error",
     "traceback": [
      "\u001b[1;31m---------------------------------------------------------------------------\u001b[0m",
      "\u001b[1;31mIndexError\u001b[0m                                Traceback (most recent call last)",
      "\u001b[1;32m<ipython-input-37-a776cea19bad>\u001b[0m in \u001b[0;36m<module>\u001b[1;34m\u001b[0m\n\u001b[1;32m----> 1\u001b[1;33m \u001b[0mletter_np\u001b[0m\u001b[1;33m[\u001b[0m\u001b[1;36m20\u001b[0m\u001b[1;33m]\u001b[0m\u001b[1;33m\u001b[0m\u001b[1;33m\u001b[0m\u001b[0m\n\u001b[0m",
      "\u001b[1;31mIndexError\u001b[0m: index 20 is out of bounds for axis 0 with size 10"
     ]
    }
   ],
   "source": [
    "# Error: IndexError: index 20 is out of bounds for axis 0 with size 10\n",
    "letter_np[20]"
   ]
  },
  {
   "cell_type": "code",
   "execution_count": 39,
   "id": "970dfe05",
   "metadata": {},
   "outputs": [
    {
     "data": {
      "text/plain": [
       "array(['A', 'B', 'C', 'D', 'E', 'F', 'G', 'H', 'I', 'J'], dtype='<U1')"
      ]
     },
     "execution_count": 39,
     "metadata": {},
     "output_type": "execute_result"
    }
   ],
   "source": [
    "letter_np[0:20] # using slicing, it will ignore the index error"
   ]
  },
  {
   "cell_type": "code",
   "execution_count": 40,
   "id": "ab47b5f8",
   "metadata": {},
   "outputs": [
    {
     "data": {
      "text/plain": [
       "array([], dtype='<U1')"
      ]
     },
     "execution_count": 40,
     "metadata": {},
     "output_type": "execute_result"
    }
   ],
   "source": [
    "letter_np[20:]"
   ]
  },
  {
   "cell_type": "code",
   "execution_count": 42,
   "id": "b1afc036",
   "metadata": {},
   "outputs": [
    {
     "data": {
      "text/plain": [
       "array(['A', 'B', 'C', 'D'], dtype='<U1')"
      ]
     },
     "execution_count": 42,
     "metadata": {},
     "output_type": "execute_result"
    }
   ],
   "source": [
    "letter_np[0:-6:1]"
   ]
  },
  {
   "cell_type": "code",
   "execution_count": 44,
   "id": "3e15ddac",
   "metadata": {},
   "outputs": [
    {
     "data": {
      "text/plain": [
       "array(['A', 'B', 'C', 'D', 'E', 'F', 'G', 'H', 'I', 'J'], dtype='<U1')"
      ]
     },
     "execution_count": 44,
     "metadata": {},
     "output_type": "execute_result"
    }
   ],
   "source": [
    "letter_np[0:20:1]"
   ]
  },
  {
   "cell_type": "code",
   "execution_count": 45,
   "id": "7945a72b",
   "metadata": {},
   "outputs": [
    {
     "data": {
      "text/plain": [
       "array([], dtype='<U1')"
      ]
     },
     "execution_count": 45,
     "metadata": {},
     "output_type": "execute_result"
    }
   ],
   "source": [
    "letter_np[0:20:-1]"
   ]
  },
  {
   "cell_type": "code",
   "execution_count": 47,
   "id": "0da01bfb",
   "metadata": {},
   "outputs": [
    {
     "data": {
      "text/plain": [
       "array(['B', 'C'], dtype='<U1')"
      ]
     },
     "execution_count": 47,
     "metadata": {},
     "output_type": "execute_result"
    }
   ],
   "source": [
    "x = 1\n",
    "y = 2\n",
    "letter_np[x:x+y]"
   ]
  },
  {
   "cell_type": "code",
   "execution_count": 48,
   "id": "041f6f1d",
   "metadata": {},
   "outputs": [
    {
     "data": {
      "text/plain": [
       "array(['A', 'B', 'C', 'D', 'E', 'F', 'G'], dtype='<U1')"
      ]
     },
     "execution_count": 48,
     "metadata": {},
     "output_type": "execute_result"
    }
   ],
   "source": [
    "letter_np[0:len(letter_np)-3]"
   ]
  },
  {
   "cell_type": "markdown",
   "id": "516e600d",
   "metadata": {},
   "source": [
    "### Arrays can manage only one datatype"
   ]
  },
  {
   "cell_type": "markdown",
   "id": "ff1e050d",
   "metadata": {},
   "source": [
    "#### Integer array"
   ]
  },
  {
   "cell_type": "code",
   "execution_count": 49,
   "id": "baf30813",
   "metadata": {},
   "outputs": [
    {
     "data": {
      "text/plain": [
       "array([11,  2,  2, 34,  5])"
      ]
     },
     "execution_count": 49,
     "metadata": {},
     "output_type": "execute_result"
    }
   ],
   "source": [
    "mArr = np.array([11,2,2,34,5])\n",
    "mArr"
   ]
  },
  {
   "cell_type": "markdown",
   "id": "def93c20",
   "metadata": {},
   "source": [
    "#### All integer are promoted to the float"
   ]
  },
  {
   "cell_type": "code",
   "execution_count": 56,
   "id": "f6670fa8",
   "metadata": {},
   "outputs": [
    {
     "data": {
      "text/plain": [
       "array([11.  ,  2.  ,  2.  , 34.  ,  5.  , 45.  , 64.45, 34.68])"
      ]
     },
     "execution_count": 56,
     "metadata": {},
     "output_type": "execute_result"
    }
   ],
   "source": [
    "mArr = np.array([11,2,2,34,5,45,64.45,34.68])\n",
    "mArr"
   ]
  },
  {
   "cell_type": "markdown",
   "id": "935c1d71",
   "metadata": {},
   "source": [
    "#### Boolean --> Integer"
   ]
  },
  {
   "cell_type": "code",
   "execution_count": 57,
   "id": "337204bd",
   "metadata": {},
   "outputs": [
    {
     "data": {
      "text/plain": [
       "array([11,  2,  2, 34,  5,  1,  0,  1])"
      ]
     },
     "execution_count": 57,
     "metadata": {},
     "output_type": "execute_result"
    }
   ],
   "source": [
    "mArr = np.array([11,2,2,34,5, True, False, True])\n",
    "mArr"
   ]
  },
  {
   "cell_type": "code",
   "execution_count": 58,
   "id": "325e46e7",
   "metadata": {},
   "outputs": [
    {
     "data": {
      "text/plain": [
       "array([11,  2,  2, 34,  5,  1,  0,  1])"
      ]
     },
     "execution_count": 58,
     "metadata": {},
     "output_type": "execute_result"
    }
   ],
   "source": [
    "mArr = np.array([11,2,2,34,5, True, False, True])\n",
    "mArr"
   ]
  },
  {
   "cell_type": "markdown",
   "id": "d5f984ed",
   "metadata": {},
   "source": [
    "#### Boolean --> Integer  --> Float"
   ]
  },
  {
   "cell_type": "code",
   "execution_count": 59,
   "id": "51a01252",
   "metadata": {},
   "outputs": [
    {
     "data": {
      "text/plain": [
       "array([11. ,  2. ,  2. , 34. ,  5. ,  1. ,  0. ,  1. ,  2.3])"
      ]
     },
     "execution_count": 59,
     "metadata": {},
     "output_type": "execute_result"
    }
   ],
   "source": [
    "mArr = np.array([11,2,2,34,5, True, False, True, 2.3])\n",
    "mArr"
   ]
  },
  {
   "cell_type": "markdown",
   "id": "efef1adb",
   "metadata": {},
   "source": [
    "#### Boolean --> Integer  --> Float --> String"
   ]
  },
  {
   "cell_type": "code",
   "execution_count": 61,
   "id": "df8de2fa",
   "metadata": {},
   "outputs": [
    {
     "data": {
      "text/plain": [
       "array(['11', '2', '2', '34', '5', 'True', 'False', 'True', '2.3',\n",
       "       'vishali'], dtype='<U32')"
      ]
     },
     "execution_count": 61,
     "metadata": {},
     "output_type": "execute_result"
    }
   ],
   "source": [
    "mArr = np.array([11,2,2,34,5, True, False, True, 2.3,\"vishali\"])\n",
    "mArr"
   ]
  },
  {
   "cell_type": "markdown",
   "id": "72ec1ad0",
   "metadata": {},
   "source": [
    "### List:\n",
    "\n",
    "- Data retrival - different as we need to look into multiple paritions.\n",
    "\n",
    "- It has got loop overheads\n",
    "\n",
    "### Numpy array:\n",
    "\n",
    "- Parallel process like a multi thread application\n",
    "\n",
    "- Faster\n",
    "\n",
    "- List can't go ahead and achieve it\n",
    "\n",
    "- Python utilizer uses c++ engine as internal engine. so it is much faster than regulart python interpreter.\n",
    "\n",
    "- It won't cost you on the loop overheads\n",
    "\n",
    "- Implementation in base language - C++\n",
    "\n",
    "- Vector operations\n",
    "\n",
    "The NumPy arrays takes significantly less amount of memory as compared to python lists. It also provides a mechanism of specifying the data types of the contents, which allows further optimisation of the code.\n",
    "\n",
    "Numpy data structures perform better in: Size - Numpy data structures take up less space. Performance - they have a need for speed and are faster than lists."
   ]
  },
  {
   "cell_type": "code",
   "execution_count": 62,
   "id": "437b061c",
   "metadata": {},
   "outputs": [
    {
     "name": "stdout",
     "output_type": "stream",
     "text": [
      "110\n",
      "220\n",
      "330\n",
      "440\n",
      "550\n",
      "660\n",
      "770\n",
      "880\n",
      "990\n"
     ]
    }
   ],
   "source": [
    "mList = [11,22,33,44,55,66,77,88,99]\n",
    "for i in range(len(mList)):\n",
    "    print(mList[i]*10)"
   ]
  },
  {
   "cell_type": "code",
   "execution_count": 67,
   "id": "5c34b9cc",
   "metadata": {},
   "outputs": [],
   "source": [
    "mArr = [11,22,33,44,55,66,77,88,99]"
   ]
  },
  {
   "cell_type": "code",
   "execution_count": 68,
   "id": "248820a1",
   "metadata": {},
   "outputs": [
    {
     "data": {
      "text/plain": [
       "array([11, 22, 33, 44, 55, 66, 77, 88, 99])"
      ]
     },
     "execution_count": 68,
     "metadata": {},
     "output_type": "execute_result"
    }
   ],
   "source": [
    "mArr = np.array(mArr)\n",
    "mArr"
   ]
  },
  {
   "cell_type": "code",
   "execution_count": 69,
   "id": "df1ecb2a",
   "metadata": {},
   "outputs": [
    {
     "data": {
      "text/plain": [
       "array([111, 122, 133, 144, 155, 166, 177, 188, 199])"
      ]
     },
     "execution_count": 69,
     "metadata": {},
     "output_type": "execute_result"
    }
   ],
   "source": [
    "mArr + 100"
   ]
  },
  {
   "cell_type": "code",
   "execution_count": 70,
   "id": "b930eb01",
   "metadata": {},
   "outputs": [
    {
     "data": {
      "text/plain": [
       "array([1100, 2200, 3300, 4400, 5500, 6600, 7700, 8800, 9900])"
      ]
     },
     "execution_count": 70,
     "metadata": {},
     "output_type": "execute_result"
    }
   ],
   "source": [
    "mArr * 100"
   ]
  },
  {
   "cell_type": "code",
   "execution_count": 71,
   "id": "42c7cd14",
   "metadata": {},
   "outputs": [
    {
     "data": {
      "text/plain": [
       "array([0.11, 0.22, 0.33, 0.44, 0.55, 0.66, 0.77, 0.88, 0.99])"
      ]
     },
     "execution_count": 71,
     "metadata": {},
     "output_type": "execute_result"
    }
   ],
   "source": [
    "mArr / 100"
   ]
  },
  {
   "cell_type": "code",
   "execution_count": 77,
   "id": "f3b7683b",
   "metadata": {},
   "outputs": [
    {
     "data": {
      "text/plain": [
       "array([False, False, False, False,  True,  True,  True,  True,  True])"
      ]
     },
     "execution_count": 77,
     "metadata": {},
     "output_type": "execute_result"
    }
   ],
   "source": [
    "mArr = [11,22,33,44,55,66,77,88,99]\n",
    "mArr = np.array(mArr)\n",
    "mArr > 50"
   ]
  },
  {
   "cell_type": "code",
   "execution_count": 79,
   "id": "2c758656",
   "metadata": {},
   "outputs": [
    {
     "data": {
      "text/plain": [
       "array([55, 66, 77, 88, 99])"
      ]
     },
     "execution_count": 79,
     "metadata": {},
     "output_type": "execute_result"
    }
   ],
   "source": [
    "mArr[mArr > 50]"
   ]
  },
  {
   "cell_type": "code",
   "execution_count": 80,
   "id": "083fedfb",
   "metadata": {},
   "outputs": [
    {
     "data": {
      "text/plain": [
       "array([5500, 6600, 7700, 8800, 9900])"
      ]
     },
     "execution_count": 80,
     "metadata": {},
     "output_type": "execute_result"
    }
   ],
   "source": [
    "mArr[mArr > 50]*100"
   ]
  },
  {
   "cell_type": "code",
   "execution_count": 76,
   "id": "a1442251",
   "metadata": {},
   "outputs": [
    {
     "data": {
      "text/plain": [
       "(array([4, 5, 6, 7, 8], dtype=int64),)"
      ]
     },
     "execution_count": 76,
     "metadata": {},
     "output_type": "execute_result"
    }
   ],
   "source": [
    "# index of values in array satisfying the conditions\n",
    "np.where(mArr > 50)"
   ]
  },
  {
   "cell_type": "code",
   "execution_count": 81,
   "id": "14012fcf",
   "metadata": {},
   "outputs": [
    {
     "data": {
      "text/plain": [
       "array([7700, 8800, 9900])"
      ]
     },
     "execution_count": 81,
     "metadata": {},
     "output_type": "execute_result"
    }
   ],
   "source": [
    "mArr[-3:]*100"
   ]
  },
  {
   "cell_type": "code",
   "execution_count": 82,
   "id": "acf1c9d1",
   "metadata": {},
   "outputs": [
    {
     "data": {
      "text/plain": [
       "array([11, 22, 33, 44, 55, 66, 77, 88, 99])"
      ]
     },
     "execution_count": 82,
     "metadata": {},
     "output_type": "execute_result"
    }
   ],
   "source": [
    "mArr"
   ]
  },
  {
   "cell_type": "code",
   "execution_count": 84,
   "id": "562192a7",
   "metadata": {},
   "outputs": [
    {
     "data": {
      "text/plain": [
       "array([    11,     22,     33,     44,     55,     66, 770000, 880000,\n",
       "       990000])"
      ]
     },
     "execution_count": 84,
     "metadata": {},
     "output_type": "execute_result"
    }
   ],
   "source": [
    "mArr[-3:] = mArr[-3:]*100\n",
    "mArr"
   ]
  },
  {
   "cell_type": "code",
   "execution_count": 86,
   "id": "820c90ec",
   "metadata": {},
   "outputs": [
    {
     "data": {
      "text/plain": [
       "array([770000, 880000, 990000])"
      ]
     },
     "execution_count": 86,
     "metadata": {},
     "output_type": "execute_result"
    }
   ],
   "source": [
    "mArr = mArr[-3:]\n",
    "mArr"
   ]
  },
  {
   "cell_type": "code",
   "execution_count": 94,
   "id": "c5d76a06",
   "metadata": {},
   "outputs": [
    {
     "data": {
      "text/plain": [
       "array([11. , 22. , 33. , 44. ,  5.5,  6.6,  7.7,  8.8,  9.9])"
      ]
     },
     "execution_count": 94,
     "metadata": {},
     "output_type": "execute_result"
    }
   ],
   "source": [
    "mArr = [11,22,33,44,55,66,77,88,99.0]\n",
    "mArr = np.array(mArr)\n",
    "mArr[mArr > 50] = mArr[mArr > 50]/10.0\n",
    "mArr"
   ]
  },
  {
   "cell_type": "code",
   "execution_count": 96,
   "id": "d6241a53",
   "metadata": {},
   "outputs": [
    {
     "data": {
      "text/plain": [
       "array([ 1.,  2.,  3.,  4.,  5.,  6.,  7.,  8.,  9., 10.])"
      ]
     },
     "execution_count": 96,
     "metadata": {},
     "output_type": "execute_result"
    }
   ],
   "source": [
    "np.linspace(1,10,num=10)\n",
    "# Return the value in this range"
   ]
  },
  {
   "cell_type": "code",
   "execution_count": 97,
   "id": "56637411",
   "metadata": {},
   "outputs": [
    {
     "data": {
      "text/plain": [
       "array([2.        , 2.33333333, 2.66666667, 3.        , 3.33333333,\n",
       "       3.66666667, 4.        , 4.33333333, 4.66666667, 5.        ])"
      ]
     },
     "execution_count": 97,
     "metadata": {},
     "output_type": "execute_result"
    }
   ],
   "source": [
    "np.linspace(2,5,num=10)\n",
    "# Return the value in this range"
   ]
  },
  {
   "cell_type": "code",
   "execution_count": 101,
   "id": "5703b635",
   "metadata": {},
   "outputs": [],
   "source": [
    "arr1 = np.round(np.linspace(5, 20, num=10),2)\n",
    "arr2 = np.round(np.linspace(10, 25, num=10),2)"
   ]
  },
  {
   "cell_type": "code",
   "execution_count": 102,
   "id": "04e281b8",
   "metadata": {},
   "outputs": [
    {
     "data": {
      "text/plain": [
       "array([ 5.  ,  6.67,  8.33, 10.  , 11.67, 13.33, 15.  , 16.67, 18.33,\n",
       "       20.  ])"
      ]
     },
     "execution_count": 102,
     "metadata": {},
     "output_type": "execute_result"
    }
   ],
   "source": [
    "arr1"
   ]
  },
  {
   "cell_type": "code",
   "execution_count": 103,
   "id": "6f48d6d4",
   "metadata": {},
   "outputs": [
    {
     "data": {
      "text/plain": [
       "array([10.  , 11.67, 13.33, 15.  , 16.67, 18.33, 20.  , 21.67, 23.33,\n",
       "       25.  ])"
      ]
     },
     "execution_count": 103,
     "metadata": {},
     "output_type": "execute_result"
    }
   ],
   "source": [
    "arr2"
   ]
  },
  {
   "cell_type": "code",
   "execution_count": 111,
   "id": "22979365",
   "metadata": {},
   "outputs": [
    {
     "data": {
      "text/plain": [
       "(10,)"
      ]
     },
     "execution_count": 111,
     "metadata": {},
     "output_type": "execute_result"
    }
   ],
   "source": [
    "arr1.shape"
   ]
  },
  {
   "cell_type": "code",
   "execution_count": 112,
   "id": "00bdf29d",
   "metadata": {},
   "outputs": [
    {
     "data": {
      "text/plain": [
       "(10,)"
      ]
     },
     "execution_count": 112,
     "metadata": {},
     "output_type": "execute_result"
    }
   ],
   "source": [
    "arr2.shape"
   ]
  },
  {
   "cell_type": "code",
   "execution_count": 109,
   "id": "a44c8548",
   "metadata": {},
   "outputs": [
    {
     "data": {
      "text/plain": [
       "True"
      ]
     },
     "execution_count": 109,
     "metadata": {},
     "output_type": "execute_result"
    }
   ],
   "source": [
    "arr1.shape == arr2.shape"
   ]
  },
  {
   "cell_type": "code",
   "execution_count": 110,
   "id": "d241b051",
   "metadata": {},
   "outputs": [
    {
     "data": {
      "text/plain": [
       "array([15.  , 18.34, 21.66, 25.  , 28.34, 31.66, 35.  , 38.34, 41.66,\n",
       "       45.  ])"
      ]
     },
     "execution_count": 110,
     "metadata": {},
     "output_type": "execute_result"
    }
   ],
   "source": [
    "# Index to index operations\n",
    "arr1 + arr2"
   ]
  },
  {
   "cell_type": "code",
   "execution_count": 113,
   "id": "6e70d455",
   "metadata": {},
   "outputs": [
    {
     "data": {
      "text/plain": [
       "array([9.76562500e+06, 4.14522856e+09, 1.87153464e+12, 1.00000000e+15,\n",
       "       6.13862594e+17, 4.15084617e+20, 3.32525673e+23, 3.01539665e+26,\n",
       "       2.94835862e+29, 3.35544320e+32])"
      ]
     },
     "execution_count": 113,
     "metadata": {},
     "output_type": "execute_result"
    }
   ],
   "source": [
    "# Power of - operations\n",
    "arr1**arr2"
   ]
  },
  {
   "cell_type": "code",
   "execution_count": 114,
   "id": "fd164b18",
   "metadata": {},
   "outputs": [
    {
     "data": {
      "text/plain": [
       "array([ 50.    ,  77.8389, 111.0389, 150.    , 194.5389, 244.3389,\n",
       "       300.    , 361.2389, 427.6389, 500.    ])"
      ]
     },
     "execution_count": 114,
     "metadata": {},
     "output_type": "execute_result"
    }
   ],
   "source": [
    "# Multiplication operations\n",
    "arr1*arr2"
   ]
  },
  {
   "cell_type": "markdown",
   "id": "ecf43e00",
   "metadata": {},
   "source": [
    "### 2D arrays/ Matrix"
   ]
  },
  {
   "cell_type": "code",
   "execution_count": 116,
   "id": "e40a1cf7",
   "metadata": {},
   "outputs": [
    {
     "data": {
      "text/plain": [
       "array([10. , 10.1, 10.2, 10.3, 10.4, 10.5, 10.6, 10.7, 10.8, 10.9, 11. ,\n",
       "       11.1, 11.2, 11.3, 11.4, 11.5, 11.6, 11.7, 11.8, 11.9, 12. , 12.1,\n",
       "       12.2, 12.3, 12.4, 12.5, 12.6, 12.7, 12.8, 12.9, 13. , 13.1, 13.2,\n",
       "       13.3, 13.4, 13.5, 13.6, 13.7, 13.8, 13.9, 14. , 14.1, 14.2, 14.3,\n",
       "       14.4, 14.5, 14.6, 14.7, 14.8, 14.9, 15. , 15.1, 15.2, 15.3, 15.4,\n",
       "       15.5, 15.6, 15.7, 15.8, 15.9, 16. , 16.1, 16.2, 16.3, 16.4, 16.5,\n",
       "       16.6, 16.7, 16.8, 16.9, 17. , 17.1, 17.2, 17.3, 17.4, 17.5, 17.6,\n",
       "       17.7, 17.8, 17.9, 18. , 18.1, 18.2, 18.3, 18.4, 18.5, 18.6, 18.7,\n",
       "       18.8, 18.9, 19. , 19.1, 19.2, 19.3, 19.4, 19.5, 19.6, 19.7, 19.8,\n",
       "       19.9])"
      ]
     },
     "execution_count": 116,
     "metadata": {},
     "output_type": "execute_result"
    }
   ],
   "source": [
    "arr = np.arange(10,20,0.1)\n",
    "arr"
   ]
  },
  {
   "cell_type": "code",
   "execution_count": 117,
   "id": "d1d3dc00",
   "metadata": {},
   "outputs": [
    {
     "data": {
      "text/plain": [
       "array([ 0,  1,  2,  3,  4,  5,  6,  7,  8,  9, 10, 11, 12, 13, 14, 15, 16,\n",
       "       17, 18, 19])"
      ]
     },
     "execution_count": 117,
     "metadata": {},
     "output_type": "execute_result"
    }
   ],
   "source": [
    "arr = np.arange(20)\n",
    "arr"
   ]
  },
  {
   "cell_type": "markdown",
   "id": "e1e3152e",
   "metadata": {},
   "source": [
    "newShape = (row,col) = row*col = 20\n",
    "\n",
    "Why 20? Since we have 20 elements."
   ]
  },
  {
   "cell_type": "code",
   "execution_count": 118,
   "id": "c8467f31",
   "metadata": {},
   "outputs": [
    {
     "data": {
      "text/plain": [
       "array([[ 0,  1,  2,  3],\n",
       "       [ 4,  5,  6,  7],\n",
       "       [ 8,  9, 10, 11],\n",
       "       [12, 13, 14, 15],\n",
       "       [16, 17, 18, 19]])"
      ]
     },
     "execution_count": 118,
     "metadata": {},
     "output_type": "execute_result"
    }
   ],
   "source": [
    "# Reshape it to 2 Dimension\n",
    "m1 = np.reshape(arr, (5,4))\n",
    "m1"
   ]
  },
  {
   "cell_type": "code",
   "execution_count": 122,
   "id": "4b74baa3",
   "metadata": {},
   "outputs": [
    {
     "data": {
      "text/plain": [
       "(5, 4)"
      ]
     },
     "execution_count": 122,
     "metadata": {},
     "output_type": "execute_result"
    }
   ],
   "source": [
    "m1.shape"
   ]
  },
  {
   "cell_type": "code",
   "execution_count": 119,
   "id": "427aa9aa",
   "metadata": {},
   "outputs": [
    {
     "data": {
      "text/plain": [
       "array([[ 0,  4,  8, 12],\n",
       "       [16,  1,  5,  9],\n",
       "       [13, 17,  2,  6],\n",
       "       [10, 14, 18,  3],\n",
       "       [ 7, 11, 15, 19]])"
      ]
     },
     "execution_count": 119,
     "metadata": {},
     "output_type": "execute_result"
    }
   ],
   "source": [
    "m2 = np.array([[0,4,8,12],\n",
    "               [16,1,5,9],\n",
    "               [13,17,2,6],\n",
    "               [10,14,18,3],\n",
    "               [7,11,15,19]])\n",
    "m2"
   ]
  },
  {
   "cell_type": "code",
   "execution_count": 120,
   "id": "0e8ab365",
   "metadata": {},
   "outputs": [
    {
     "data": {
      "text/plain": [
       "(5, 4)"
      ]
     },
     "execution_count": 120,
     "metadata": {},
     "output_type": "execute_result"
    }
   ],
   "source": [
    "m2.shape"
   ]
  },
  {
   "cell_type": "code",
   "execution_count": 121,
   "id": "9274661e",
   "metadata": {},
   "outputs": [
    {
     "data": {
      "text/plain": [
       "array([[  0,   4,  16,  36],\n",
       "       [ 64,   5,  30,  63],\n",
       "       [104, 153,  20,  66],\n",
       "       [120, 182, 252,  45],\n",
       "       [112, 187, 270, 361]])"
      ]
     },
     "execution_count": 121,
     "metadata": {},
     "output_type": "execute_result"
    }
   ],
   "source": [
    "m1*m2"
   ]
  },
  {
   "cell_type": "code",
   "execution_count": 123,
   "id": "5ba37ed0",
   "metadata": {},
   "outputs": [
    {
     "data": {
      "text/plain": [
       "array([12, 13, 14, 15])"
      ]
     },
     "execution_count": 123,
     "metadata": {},
     "output_type": "execute_result"
    }
   ],
   "source": [
    "m1[3] # Third row"
   ]
  },
  {
   "cell_type": "code",
   "execution_count": 124,
   "id": "5a0680d8",
   "metadata": {},
   "outputs": [
    {
     "data": {
      "text/plain": [
       "14"
      ]
     },
     "execution_count": 124,
     "metadata": {},
     "output_type": "execute_result"
    }
   ],
   "source": [
    "m1[3,2] # Specific value from the matrix"
   ]
  },
  {
   "cell_type": "code",
   "execution_count": 126,
   "id": "e9f24fd4",
   "metadata": {},
   "outputs": [
    {
     "data": {
      "text/plain": [
       "array([[ 8,  9, 10, 11],\n",
       "       [12, 13, 14, 15]])"
      ]
     },
     "execution_count": 126,
     "metadata": {},
     "output_type": "execute_result"
    }
   ],
   "source": [
    "m1[2:4] # Specific rows from the matrix"
   ]
  },
  {
   "cell_type": "code",
   "execution_count": 127,
   "id": "0bd713eb",
   "metadata": {},
   "outputs": [
    {
     "data": {
      "text/plain": [
       "array([[ 4,  5],\n",
       "       [ 8,  9],\n",
       "       [12, 13]])"
      ]
     },
     "execution_count": 127,
     "metadata": {},
     "output_type": "execute_result"
    }
   ],
   "source": [
    "m1[1:4,0:2] "
   ]
  },
  {
   "cell_type": "code",
   "execution_count": null,
   "id": "4f7b377c",
   "metadata": {},
   "outputs": [],
   "source": []
  }
 ],
 "metadata": {
  "kernelspec": {
   "display_name": "Python 3",
   "language": "python",
   "name": "python3"
  },
  "language_info": {
   "codemirror_mode": {
    "name": "ipython",
    "version": 3
   },
   "file_extension": ".py",
   "mimetype": "text/x-python",
   "name": "python",
   "nbconvert_exporter": "python",
   "pygments_lexer": "ipython3",
   "version": "3.8.8"
  }
 },
 "nbformat": 4,
 "nbformat_minor": 5
}
